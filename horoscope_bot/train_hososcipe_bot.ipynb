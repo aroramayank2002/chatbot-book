{
 "cells": [
  {
   "metadata": {},
   "cell_type": "markdown",
   "source": "# Training Hososcipe Bot with Rasa",
   "id": "8a3b93b215e68cb0"
  },
  {
   "metadata": {
    "ExecuteTime": {
     "end_time": "2025-07-14T11:22:13.865926Z",
     "start_time": "2025-07-14T11:22:11.383190Z"
    }
   },
   "cell_type": "code",
   "source": [
    "# Install Rasa and related dependencies\n",
    "# !pip install rasa\n",
    "import spacy\n",
    "spacy.__version__"
   ],
   "id": "efab9a9ee9301c3d",
   "outputs": [
    {
     "data": {
      "text/plain": [
       "'3.8.7'"
      ]
     },
     "execution_count": 1,
     "metadata": {},
     "output_type": "execute_result"
    }
   ],
   "execution_count": 1
  },
  {
   "metadata": {
    "ExecuteTime": {
     "end_time": "2025-07-14T11:27:45.242231Z",
     "start_time": "2025-07-14T11:27:44.083288Z"
    }
   },
   "cell_type": "code",
   "source": "!rasa --version",
   "id": "aec2ea390c9af104",
   "outputs": [
    {
     "name": "stdout",
     "output_type": "stream",
     "text": [
      "/Users/mayankarora/dib/poc/chatbot-book/.venv/lib/python3.9/site-packages/rasa/core/tracker_store.py:1044: MovedIn20Warning: \u001B[31mDeprecated API features detected! These feature(s) are not compatible with SQLAlchemy 2.0. \u001B[32mTo prevent incompatible upgrades prior to updating applications, ensure requirements files are pinned to \"sqlalchemy<2.0\". \u001B[36mSet environment variable SQLALCHEMY_WARN_20=1 to show all deprecation warnings.  Set environment variable SQLALCHEMY_SILENCE_UBER_WARNING=1 to silence this message.\u001B[0m (Background on SQLAlchemy 2.0 at: https://sqlalche.me/e/b8d9)\r\n",
      "  Base: DeclarativeMeta = declarative_base()\r\n",
      "Rasa Version      :         3.6.21\r\n",
      "Minimum Compatible Version: 3.6.21\r\n",
      "Rasa SDK Version  :         3.6.2\r\n",
      "Python Version    :         3.9.6\r\n",
      "Operating System  :         macOS-15.1-arm64-arm-64bit\r\n",
      "Python Path       :         /Users/mayankarora/dib/poc/chatbot-book/.venv/bin/python\r\n"
     ]
    }
   ],
   "execution_count": 8
  },
  {
   "metadata": {
    "ExecuteTime": {
     "end_time": "2025-07-14T11:28:28.992037Z",
     "start_time": "2025-07-14T11:28:28.988624Z"
    }
   },
   "cell_type": "code",
   "source": [
    "# Create required folder structure for Rasa\n",
    "import os\n",
    "\n",
    "folders = ['models', 'data']\n",
    "for folder in folders:\n",
    "    if not os.path.exists(folder):\n",
    "        os.makedirs(folder)\n",
    "print(\"Required folder structure created.\")"
   ],
   "id": "cc5d2117c02c7d46",
   "outputs": [
    {
     "name": "stdout",
     "output_type": "stream",
     "text": [
      "Required folder structure created.\n"
     ]
    }
   ],
   "execution_count": 9
  },
  {
   "metadata": {
    "ExecuteTime": {
     "end_time": "2025-07-14T11:23:01.289830Z",
     "start_time": "2025-07-14T11:23:01.285648Z"
    }
   },
   "cell_type": "code",
   "source": [
    "# Save config.yml content to the Rasa project directory\n",
    "config_content = \"\"\"\n",
    "language: en\n",
    "pipeline:\n",
    "  - name: WhitespaceTokenizer\n",
    "  - name: RegexFeaturizer\n",
    "  - name: LexicalSyntacticFeaturizer\n",
    "  - name: CountVectorsFeaturizer\n",
    "  - name: CountVectorsFeaturizer\n",
    "    analyzer: char_wb\n",
    "    min_ngram: 1\n",
    "    max_ngram: 4\n",
    "  - name: DIETClassifier\n",
    "    epochs: 100\n",
    "  - name: EntitySynonymMapper\n",
    "  - name: ResponseSelector\n",
    "    epochs: 100\n",
    "policies:\n",
    "  - name: MemoizationPolicy\n",
    "  - name: RulePolicy\n",
    "  - name: TEDPolicy\n",
    "    max_history: 5\n",
    "    epochs: 100\n",
    "    constrain_similarities: true\n",
    "\"\"\"\n",
    "\n",
    "with open(\"config.yml\", \"w\") as file:\n",
    "    file.write(config_content)\n",
    "print(\"config.yml saved!\")"
   ],
   "id": "f752b685d21735ae",
   "outputs": [
    {
     "name": "stdout",
     "output_type": "stream",
     "text": [
      "config.yml saved!\n"
     ]
    }
   ],
   "execution_count": 4
  },
  {
   "metadata": {
    "ExecuteTime": {
     "end_time": "2025-07-14T11:24:01.348671Z",
     "start_time": "2025-07-14T11:24:01.341896Z"
    }
   },
   "cell_type": "code",
   "source": [
    "# Add training data from data.json to the Rasa project's data directory\n",
    "import json\n",
    "\n",
    "data_content = {\n",
    "    \"rasa_nlu_data\": {\n",
    "        \"common_examples\": [\n",
    "            {\n",
    "                \"text\": \"hello\",\n",
    "                \"intent\": \"greet\",\n",
    "                \"entities\": []\n",
    "            },\n",
    "            {\n",
    "                \"text\": \"bye\",\n",
    "                \"intent\": \"goodbye\",\n",
    "                \"entities\": []\n",
    "            }\n",
    "        ]\n",
    "    }\n",
    "}\n",
    "\n",
    "with open(\"data/data_generated.json\", \"w\") as file:\n",
    "    json.dump(data_content, file, indent=2)\n",
    "print(\"Training data saved to data.json!\")"
   ],
   "id": "ff27b16562be01a2",
   "outputs": [
    {
     "name": "stdout",
     "output_type": "stream",
     "text": [
      "Training data saved to data.json!\n"
     ]
    }
   ],
   "execution_count": 5
  },
  {
   "metadata": {
    "ExecuteTime": {
     "end_time": "2025-07-14T11:43:46.617195Z",
     "start_time": "2025-07-14T11:43:34.740986Z"
    }
   },
   "cell_type": "code",
   "source": [
    "# Train the model using Rasa\n",
    "!rasa train"
   ],
   "id": "66dd1f36b73d0d03",
   "outputs": [
    {
     "name": "stdout",
     "output_type": "stream",
     "text": [
      "/Users/mayankarora/dib/poc/chatbot-book/.venv/lib/python3.9/site-packages/rasa/core/tracker_store.py:1044: MovedIn20Warning: \u001B[31mDeprecated API features detected! These feature(s) are not compatible with SQLAlchemy 2.0. \u001B[32mTo prevent incompatible upgrades prior to updating applications, ensure requirements files are pinned to \"sqlalchemy<2.0\". \u001B[36mSet environment variable SQLALCHEMY_WARN_20=1 to show all deprecation warnings.  Set environment variable SQLALCHEMY_SILENCE_UBER_WARNING=1 to silence this message.\u001B[0m (Background on SQLAlchemy 2.0 at: https://sqlalche.me/e/b8d9)\r\n",
      "  Base: DeclarativeMeta = declarative_base()\r\n",
      "/Users/mayankarora/dib/poc/chatbot-book/.venv/lib/python3.9/site-packages/rasa/shared/utils/validation.py:134: DeprecationWarning: pkg_resources is deprecated as an API. See https://setuptools.pypa.io/en/latest/pkg_resources.html\r\n",
      "  import pkg_resources\r\n",
      "/Users/mayankarora/dib/poc/chatbot-book/.venv/lib/python3.9/site-packages/pkg_resources/__init__.py:3117: DeprecationWarning: Deprecated call to `pkg_resources.declare_namespace('mpl_toolkits')`.\r\n",
      "Implementing implicit namespace packages (as specified in PEP 420) is preferred to `pkg_resources.declare_namespace`. See https://setuptools.pypa.io/en/latest/references/keywords.html#keyword-namespace-packages\r\n",
      "  declare_namespace(pkg)\r\n",
      "/Users/mayankarora/dib/poc/chatbot-book/.venv/lib/python3.9/site-packages/pkg_resources/__init__.py:3117: DeprecationWarning: Deprecated call to `pkg_resources.declare_namespace('ruamel')`.\r\n",
      "Implementing implicit namespace packages (as specified in PEP 420) is preferred to `pkg_resources.declare_namespace`. See https://setuptools.pypa.io/en/latest/references/keywords.html#keyword-namespace-packages\r\n",
      "  declare_namespace(pkg)\r\n",
      "2025-07-14 13:43:35 \u001B[1;30mINFO    \u001B[0m \u001B[34mrasa.cli.train\u001B[0m  - Started validating domain and training data...\r\n",
      "/Users/mayankarora/dib/poc/chatbot-book/.venv/lib/python3.9/site-packages/tensorflow/lite/python/util.py:52: DeprecationWarning: jax.xla_computation is deprecated. Please use the AOT APIs.\r\n",
      "  from jax import xla_computation as _xla_computation\r\n",
      "\u001B[93m/Users/mayankarora/dib/poc/chatbot-book/.venv/lib/python3.9/site-packages/rasa/shared/utils/io.py:100: UserWarning: Training data file /Users/mayankarora/dib/poc/chatbot-book/horoscope_bot/domain.yml has a lower format version than your Rasa Open Source installation: 3.0 < 3.1. Rasa Open Source will read the file as a version 3.1 file. Please update your version key to 3.1. See https://rasa.com/docs/rasa/training-data-format.\r\n",
      "\u001B[0m\u001B[93m/Users/mayankarora/dib/poc/chatbot-book/.venv/lib/python3.9/site-packages/rasa/shared/nlu/training_data/formats/rasa.py:58: FutureWarning: NLU data in Rasa JSON format is deprecated and will be removed in Rasa Open Source 4.0.0. Please convert your JSON NLU data to the Rasa YAML format.\r\n",
      "  rasa.shared.utils.io.raise_deprecation_warning(\r\n",
      "\u001B[0m2025-07-14 13:43:38 \u001B[1;30mINFO    \u001B[0m \u001B[34mrasa.validator\u001B[0m  - Validating intents...\r\n",
      "\u001B[93m/Users/mayankarora/dib/poc/chatbot-book/.venv/lib/python3.9/site-packages/rasa/shared/utils/io.py:100: UserWarning: There is a message in the training data labeled with intent 'get_horoscope'. This intent is not listed in your domain. You should need to add that intent to your domain file!\r\n",
      "  More info at https://rasa.com/docs/rasa/domain\r\n",
      "\u001B[0m\u001B[93m/Users/mayankarora/dib/poc/chatbot-book/.venv/lib/python3.9/site-packages/rasa/shared/utils/io.py:100: UserWarning: There is a message in the training data labeled with intent 'greeting'. This intent is not listed in your domain. You should need to add that intent to your domain file!\r\n",
      "  More info at https://rasa.com/docs/rasa/domain\r\n",
      "\u001B[0m\u001B[93m/Users/mayankarora/dib/poc/chatbot-book/.venv/lib/python3.9/site-packages/rasa/shared/utils/io.py:100: UserWarning: There is a message in the training data labeled with intent 'subscription'. This intent is not listed in your domain. You should need to add that intent to your domain file!\r\n",
      "  More info at https://rasa.com/docs/rasa/domain\r\n",
      "\u001B[0m\u001B[93m/Users/mayankarora/dib/poc/chatbot-book/.venv/lib/python3.9/site-packages/rasa/shared/utils/io.py:100: UserWarning: There is a message in the training data labeled with intent 'dob_intent'. This intent is not listed in your domain. You should need to add that intent to your domain file!\r\n",
      "  More info at https://rasa.com/docs/rasa/domain\r\n",
      "\u001B[0m\u001B[93m/Users/mayankarora/dib/poc/chatbot-book/.venv/lib/python3.9/site-packages/rasa/shared/utils/io.py:100: UserWarning: The intent 'goodbye' is not used in any story or rule.\r\n",
      "\u001B[0m\u001B[93m/Users/mayankarora/dib/poc/chatbot-book/.venv/lib/python3.9/site-packages/rasa/shared/utils/io.py:100: UserWarning: The intent 'greet' is not used in any story or rule.\r\n",
      "\u001B[0m2025-07-14 13:43:38 \u001B[1;30mINFO    \u001B[0m \u001B[34mrasa.validator\u001B[0m  - Validating uniqueness of intents and stories...\r\n",
      "2025-07-14 13:43:38 \u001B[1;30mINFO    \u001B[0m \u001B[34mrasa.validator\u001B[0m  - Validating utterances...\r\n",
      "\u001B[93m/Users/mayankarora/dib/poc/chatbot-book/.venv/lib/python3.9/site-packages/rasa/shared/utils/io.py:100: UserWarning: The utterance 'utter_goodbye' is not used in any story or rule.\r\n",
      "\u001B[0m\u001B[93m/Users/mayankarora/dib/poc/chatbot-book/.venv/lib/python3.9/site-packages/rasa/shared/utils/io.py:100: UserWarning: The utterance 'utter_greet' is not used in any story or rule.\r\n",
      "\u001B[0m2025-07-14 13:43:38 \u001B[1;30mINFO    \u001B[0m \u001B[34mrasa.validator\u001B[0m  - Story structure validation...\r\n",
      "2025-07-14 13:43:38 \u001B[1;30mINFO    \u001B[0m \u001B[34mrasa.core.training.story_conflict\u001B[0m  - Considering all preceding turns for conflict analysis.\r\n",
      "2025-07-14 13:43:38 \u001B[1;30mINFO    \u001B[0m \u001B[34mrasa.validator\u001B[0m  - No story structure conflicts found.\r\n",
      "\u001B[93m/Users/mayankarora/dib/poc/chatbot-book/.venv/lib/python3.9/site-packages/rasa/shared/utils/io.py:100: UserWarning: Training data file /Users/mayankarora/dib/poc/chatbot-book/horoscope_bot/domain.yml has a lower format version than your Rasa Open Source installation: 3.0 < 3.1. Rasa Open Source will read the file as a version 3.1 file. Please update your version key to 3.1. See https://rasa.com/docs/rasa/training-data-format.\r\n",
      "\u001B[0m\u001B[93m/Users/mayankarora/dib/poc/chatbot-book/.venv/lib/python3.9/site-packages/rasa/shared/nlu/training_data/formats/rasa.py:58: FutureWarning: NLU data in Rasa JSON format is deprecated and will be removed in Rasa Open Source 4.0.0. Please convert your JSON NLU data to the Rasa YAML format.\r\n",
      "  rasa.shared.utils.io.raise_deprecation_warning(\r\n",
      "\u001B[0m\u001B[93mNo stories present. Just a Rasa NLU model will be trained.\u001B[0m\r\n",
      "\u001B[93m/Users/mayankarora/dib/poc/chatbot-book/.venv/lib/python3.9/site-packages/rasa/engine/recipes/recipe.py:35: FutureWarning: From Rasa Open Source 4.0.0 onwards it will be required to specify a recipe in your model configuration. Defaulting to recipe 'default.v1'.\r\n",
      "  rasa.shared.utils.io.raise_deprecation_warning(\r\n",
      "\u001B[0m\u001B[93m/Users/mayankarora/dib/poc/chatbot-book/.venv/lib/python3.9/site-packages/rasa/shared/utils/io.py:100: UserWarning: Intent 'dob_intent' has only 1 training examples! Minimum is 2, training may fail.\r\n",
      "\u001B[0m\u001B[93m/Users/mayankarora/dib/poc/chatbot-book/.venv/lib/python3.9/site-packages/rasa/shared/utils/io.py:100: UserWarning: Intent 'greet' has only 1 training examples! Minimum is 2, training may fail.\r\n",
      "\u001B[0m\u001B[93m/Users/mayankarora/dib/poc/chatbot-book/.venv/lib/python3.9/site-packages/rasa/shared/utils/io.py:100: UserWarning: Intent 'goodbye' has only 1 training examples! Minimum is 2, training may fail.\r\n",
      "\u001B[0m\u001B[93m/Users/mayankarora/dib/poc/chatbot-book/.venv/lib/python3.9/site-packages/rasa/shared/utils/io.py:100: UserWarning: Entity entity 'DD' has only 1 training examples! The minimum is 2, because of this the training may fail.\r\n",
      "\u001B[0m\u001B[93m/Users/mayankarora/dib/poc/chatbot-book/.venv/lib/python3.9/site-packages/rasa/shared/utils/io.py:100: UserWarning: Entity entity 'MM' has only 1 training examples! The minimum is 2, because of this the training may fail.\r\n",
      "\u001B[0m2025-07-14 13:43:39 \u001B[1;30mINFO    \u001B[0m \u001B[34mrasa.engine.training.hooks\u001B[0m  - Starting to train component 'RegexFeaturizer'.\r\n",
      "2025-07-14 13:43:39 \u001B[1;30mINFO    \u001B[0m \u001B[34mrasa.engine.training.hooks\u001B[0m  - Finished training component 'RegexFeaturizer'.\r\n",
      "2025-07-14 13:43:39 \u001B[1;30mINFO    \u001B[0m \u001B[34mrasa.engine.training.hooks\u001B[0m  - Starting to train component 'LexicalSyntacticFeaturizer'.\r\n",
      "2025-07-14 13:43:39 \u001B[1;30mINFO    \u001B[0m \u001B[34mrasa.engine.training.hooks\u001B[0m  - Finished training component 'LexicalSyntacticFeaturizer'.\r\n",
      "2025-07-14 13:43:39 \u001B[1;30mINFO    \u001B[0m \u001B[34mrasa.engine.training.hooks\u001B[0m  - Starting to train component 'CountVectorsFeaturizer'.\r\n",
      "2025-07-14 13:43:39 \u001B[1;30mINFO    \u001B[0m \u001B[34mrasa.nlu.featurizers.sparse_featurizer.count_vectors_featurizer\u001B[0m  - 31 vocabulary items were created for text attribute.\r\n",
      "2025-07-14 13:43:39 \u001B[1;30mINFO    \u001B[0m \u001B[34mrasa.engine.training.hooks\u001B[0m  - Finished training component 'CountVectorsFeaturizer'.\r\n",
      "2025-07-14 13:43:39 \u001B[1;30mINFO    \u001B[0m \u001B[34mrasa.engine.training.hooks\u001B[0m  - Starting to train component 'CountVectorsFeaturizer'.\r\n",
      "2025-07-14 13:43:39 \u001B[1;30mINFO    \u001B[0m \u001B[34mrasa.nlu.featurizers.sparse_featurizer.count_vectors_featurizer\u001B[0m  - 375 vocabulary items were created for text attribute.\r\n",
      "2025-07-14 13:43:39 \u001B[1;30mINFO    \u001B[0m \u001B[34mrasa.engine.training.hooks\u001B[0m  - Finished training component 'CountVectorsFeaturizer'.\r\n",
      "2025-07-14 13:43:39 \u001B[1;30mINFO    \u001B[0m \u001B[34mrasa.engine.training.hooks\u001B[0m  - Starting to train component 'DIETClassifier'.\r\n",
      "\u001B[93m/Users/mayankarora/dib/poc/chatbot-book/.venv/lib/python3.9/site-packages/rasa/utils/train_utils.py:530: UserWarning: constrain_similarities is set to `False`. It is recommended to set it to `True` when using cross-entropy loss.\r\n",
      "  rasa.shared.utils.io.raise_warning(\r\n",
      "\u001B[0m\u001B[93m/Users/mayankarora/dib/poc/chatbot-book/.venv/lib/python3.9/site-packages/rasa/shared/utils/io.py:100: UserWarning: Misaligned entity annotation in message 'What's my horoscope for today?' with intent 'get_horoscope'. Make sure the start and end values of entities ([(6, 15, 'today')]) in the training data match the token boundaries ([(0, 4, 'What'), (5, 6, 's'), (7, 9, 'my'), (10, 19, 'horoscope'), (20, 23, 'for'), (24, 29, 'today')]). Common causes: \r\n",
      "  1) entities include trailing whitespaces or punctuation\r\n",
      "  2) the tokenizer gives an unexpected result, due to languages such as Chinese that don't use whitespace for word separation\r\n",
      "  More info at https://rasa.com/docs/rasa/training-data-format#nlu-training-data\r\n",
      "\u001B[0m\u001B[93m/Users/mayankarora/dib/poc/chatbot-book/.venv/lib/python3.9/site-packages/rasa/shared/utils/io.py:100: UserWarning: Misaligned entity annotation in message 'Tell me my horoscope for tomorrow.' with intent 'get_horoscope'. Make sure the start and end values of entities ([(26, 34, 'tomorrow')]) in the training data match the token boundaries ([(0, 4, 'Tell'), (5, 7, 'me'), (8, 10, 'my'), (11, 20, 'horoscope'), (21, 24, 'for'), (25, 33, 'tomorrow')]). Common causes: \r\n",
      "  1) entities include trailing whitespaces or punctuation\r\n",
      "  2) the tokenizer gives an unexpected result, due to languages such as Chinese that don't use whitespace for word separation\r\n",
      "  More info at https://rasa.com/docs/rasa/training-data-format#nlu-training-data\r\n",
      "\u001B[0m\u001B[93m/Users/mayankarora/dib/poc/chatbot-book/.venv/lib/python3.9/site-packages/rasa/shared/utils/io.py:100: UserWarning: Misaligned entity annotation in message 'Can you tell me my horoscope for next week?' with intent 'get_horoscope'. Make sure the start and end values of entities ([(32, 41, 'next week')]) in the training data match the token boundaries ([(0, 3, 'Can'), (4, 7, 'you'), (8, 12, 'tell'), (13, 15, 'me'), (16, 18, 'my'), (19, 28, 'horoscope'), (29, 32, 'for'), (33, 37, 'next'), (38, 42, 'week')]). Common causes: \r\n",
      "  1) entities include trailing whitespaces or punctuation\r\n",
      "  2) the tokenizer gives an unexpected result, due to languages such as Chinese that don't use whitespace for word separation\r\n",
      "  More info at https://rasa.com/docs/rasa/training-data-format#nlu-training-data\r\n",
      "\u001B[0m\u001B[93m/Users/mayankarora/dib/poc/chatbot-book/.venv/lib/python3.9/site-packages/rasa/shared/utils/io.py:100: UserWarning: Misaligned entity annotation in message '19-01' with intent 'dob_intent'. Make sure the start and end values of entities ([(0, 2, '19'), (3, 5, '01')]) in the training data match the token boundaries ([(0, 5, '19-01')]). Common causes: \r\n",
      "  1) entities include trailing whitespaces or punctuation\r\n",
      "  2) the tokenizer gives an unexpected result, due to languages such as Chinese that don't use whitespace for word separation\r\n",
      "  More info at https://rasa.com/docs/rasa/training-data-format#nlu-training-data\r\n",
      "\u001B[0m2025-07-14 13:43:39 \u001B[1;30mWARNING \u001B[0m \u001B[34mabsl\u001B[0m  - \u001B[33mAt this time, the v2.11+ optimizer `tf.keras.optimizers.Adam` runs slowly on M1/M2 Macs, please use the legacy Keras optimizer instead, located at `tf.keras.optimizers.legacy.Adam`.\u001B[0m\r\n",
      "2025-07-14 13:43:39 \u001B[1;30mWARNING \u001B[0m \u001B[34mabsl\u001B[0m  - \u001B[33mThere is a known slowdown when using v2.11+ Keras optimizers on M1/M2 Macs. Falling back to the legacy Keras optimizer, i.e., `tf.keras.optimizers.legacy.Adam`.\u001B[0m\r\n",
      "Epochs: 100%|████████████| 100/100 [00:04<00:00, 23.02it/s, t_loss=1.2, i_acc=1]\r\n",
      "2025-07-14 13:43:44 \u001B[1;30mINFO    \u001B[0m \u001B[34mrasa.engine.training.hooks\u001B[0m  - Finished training component 'DIETClassifier'.\r\n",
      "2025-07-14 13:43:44 \u001B[1;30mINFO    \u001B[0m \u001B[34mrasa.engine.training.hooks\u001B[0m  - Starting to train component 'EntitySynonymMapper'.\r\n",
      "2025-07-14 13:43:44 \u001B[1;30mINFO    \u001B[0m \u001B[34mrasa.engine.training.hooks\u001B[0m  - Finished training component 'EntitySynonymMapper'.\r\n",
      "2025-07-14 13:43:44 \u001B[1;30mINFO    \u001B[0m \u001B[34mrasa.engine.training.hooks\u001B[0m  - Starting to train component 'ResponseSelector'.\r\n",
      "2025-07-14 13:43:44 \u001B[1;30mINFO    \u001B[0m \u001B[34mrasa.nlu.selectors.response_selector\u001B[0m  - Retrieval intent parameter was left to its default value. This response selector will be trained on training examples combining all retrieval intents.\r\n",
      "2025-07-14 13:43:44 \u001B[1;30mINFO    \u001B[0m \u001B[34mrasa.engine.training.hooks\u001B[0m  - Finished training component 'ResponseSelector'.\r\n",
      "\u001B[92mYour Rasa model is trained and saved at 'models/nlu-20250714-134339-forward-HUD.tar.gz'.\u001B[0m\r\n"
     ]
    }
   ],
   "execution_count": 13
  },
  {
   "metadata": {
    "ExecuteTime": {
     "end_time": "2025-07-14T12:28:36.415931Z",
     "start_time": "2025-07-14T12:17:23.810048Z"
    }
   },
   "cell_type": "code",
   "source": [
    "# Run the chatbot locally to verify its performance\n",
    "!rasa shell"
   ],
   "id": "b30f02a197e6e194",
   "outputs": [
    {
     "name": "stdout",
     "output_type": "stream",
     "text": [
      "/Users/mayankarora/dib/poc/chatbot-book/.venv/lib/python3.9/site-packages/rasa/core/tracker_store.py:1044: MovedIn20Warning: \u001B[31mDeprecated API features detected! These feature(s) are not compatible with SQLAlchemy 2.0. \u001B[32mTo prevent incompatible upgrades prior to updating applications, ensure requirements files are pinned to \"sqlalchemy<2.0\". \u001B[36mSet environment variable SQLALCHEMY_WARN_20=1 to show all deprecation warnings.  Set environment variable SQLALCHEMY_SILENCE_UBER_WARNING=1 to silence this message.\u001B[0m (Background on SQLAlchemy 2.0 at: https://sqlalche.me/e/b8d9)\r\n",
      "  Base: DeclarativeMeta = declarative_base()\r\n",
      "/Users/mayankarora/dib/poc/chatbot-book/.venv/lib/python3.9/site-packages/rasa/shared/utils/validation.py:134: DeprecationWarning: pkg_resources is deprecated as an API. See https://setuptools.pypa.io/en/latest/pkg_resources.html\r\n",
      "  import pkg_resources\r\n",
      "/Users/mayankarora/dib/poc/chatbot-book/.venv/lib/python3.9/site-packages/pkg_resources/__init__.py:3117: DeprecationWarning: Deprecated call to `pkg_resources.declare_namespace('mpl_toolkits')`.\r\n",
      "Implementing implicit namespace packages (as specified in PEP 420) is preferred to `pkg_resources.declare_namespace`. See https://setuptools.pypa.io/en/latest/references/keywords.html#keyword-namespace-packages\r\n",
      "  declare_namespace(pkg)\r\n",
      "/Users/mayankarora/dib/poc/chatbot-book/.venv/lib/python3.9/site-packages/pkg_resources/__init__.py:3117: DeprecationWarning: Deprecated call to `pkg_resources.declare_namespace('ruamel')`.\r\n",
      "Implementing implicit namespace packages (as specified in PEP 420) is preferred to `pkg_resources.declare_namespace`. See https://setuptools.pypa.io/en/latest/references/keywords.html#keyword-namespace-packages\r\n",
      "  declare_namespace(pkg)\r\n",
      "/Users/mayankarora/dib/poc/chatbot-book/.venv/lib/python3.9/site-packages/tensorflow/lite/python/util.py:52: DeprecationWarning: jax.xla_computation is deprecated. Please use the AOT APIs.\r\n",
      "  from jax import xla_computation as _xla_computation\r\n",
      "2025-07-14 14:17:27 \u001B[1;30mINFO    \u001B[0m \u001B[34mrasa.core.processor\u001B[0m  - Loading model models/nlu-20250714-134339-forward-HUD.tar.gz...\r\n",
      "2025-07-14 14:17:27 \u001B[1;30mWARNING \u001B[0m \u001B[34mabsl\u001B[0m  - \u001B[33mAt this time, the v2.11+ optimizer `tf.keras.optimizers.Adam` runs slowly on M1/M2 Macs, please use the legacy Keras optimizer instead, located at `tf.keras.optimizers.legacy.Adam`.\u001B[0m\r\n",
      "2025-07-14 14:17:27 \u001B[1;30mWARNING \u001B[0m \u001B[34mabsl\u001B[0m  - \u001B[33mThere is a known slowdown when using v2.11+ Keras optimizers on M1/M2 Macs. Falling back to the legacy Keras optimizer, i.e., `tf.keras.optimizers.legacy.Adam`.\u001B[0m\r\n",
      "\u001B[93m/Users/mayankarora/dib/poc/chatbot-book/.venv/lib/python3.9/site-packages/rasa/utils/train_utils.py:530: UserWarning: constrain_similarities is set to `False`. It is recommended to set it to `True` when using cross-entropy loss.\r\n",
      "  rasa.shared.utils.io.raise_warning(\r\n",
      "\u001B[0m\u001B[92mNLU model loaded. Type a message and press enter to parse it.\u001B[0m\r\n",
      "\u001B[92mNext message:\u001B[0m\r\n",
      "^C\r\n",
      "\u001B[94mWrapping up command line chat...\u001B[0m\r\n"
     ]
    }
   ],
   "execution_count": 15
  },
  {
   "metadata": {},
   "cell_type": "code",
   "outputs": [],
   "execution_count": null,
   "source": "",
   "id": "dd7498432d31e3a0"
  }
 ],
 "metadata": {
  "kernelspec": {
   "display_name": "Python 3",
   "language": "python",
   "name": "python3"
  },
  "language_info": {
   "codemirror_mode": {
    "name": "ipython",
    "version": 2
   },
   "file_extension": ".py",
   "mimetype": "text/x-python",
   "name": "python",
   "nbconvert_exporter": "python",
   "pygments_lexer": "ipython2",
   "version": "2.7.6"
  }
 },
 "nbformat": 4,
 "nbformat_minor": 5
}
